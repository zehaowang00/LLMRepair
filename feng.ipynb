{
 "cells": [
  {
   "cell_type": "markdown",
   "metadata": {
    "collapsed": true,
    "jupyter": {
     "outputs_hidden": true
    },
    "pycharm": {
     "name": "#%% md\n"
    }
   },
   "source": [
    "# Project-Diary\n",
    "\n",
    "# IR-based fault localization tool\n",
    "\n",
    "## 2024-04-01 discuss with RQ1 evaluation\n",
    "\n",
    "**input/out pairs**\n",
    "\n",
    "input: bug report, buggy program\n",
    "\n",
    "output: bug-id, suspicious file list, probability\n",
    "\n",
    "**iFixR**\n",
    "\n",
    "* ref: https://github.com/TruX-DTF/iFixR/tree/master\n",
    "* https://arxiv.org/abs/1902.02703\n",
    "* https://github.com/TruX-DTF/d-and-c\n",
    "\n",
    "iFixR IR-based file localization is based on [d&c](https://github.com/TruX-DTF/d-and-c), which use LightGBM to do the machine learning, get a predict approach(multi-classifiers, which accept code and bug report to calculate similarity), rank the suspicious file list.\n",
    "\n",
    "d-and-c didn't offer too many guidelines and was a little tricky to study, so we just used iFixR manual.\n",
    "\n",
    "from step1 to step12: clone -> collect -> fix -> bugPoints -> brDownload -> brParser -> brFeatures -> verify -> simi -> features -> predict -> eval\n",
    "\n",
    "main idea: get code/get bug -> translate to features -> calculate similarity -> rank all results(probability), generate suspicious file list\n",
    "\n",
    "step 3/4 Require: `bugreport.pickle` file, which contains:\n",
    "\n",
    "```text\n",
    "bugID\n",
    "summary\n",
    "description\n",
    "created\n",
    "updated\n",
    "resolved\n",
    "reporterDN\n",
    "reporterEmail\n",
    "hasAttachment\n",
    "attachmentTime\n",
    "hasPR\n",
    "codeElements\n",
    "stackTraces\n",
    "summaryHints\n",
    "descHints\n",
    "```\n",
    "\n",
    "iFixR already uploaded three bugreport.pickle files, so we can directly use them to generate three expected output\n",
    "\n",
    "**evaluate**\n",
    "\n",
    "* ref: https://github.com/rjust/defects4j\n",
    "* https://bitbucket.org/rjust/fault-localization-data/src/d4j-2.0/analysis/pipeline-scripts/\n",
    "\n",
    "from the last step, we got the suspicious file list: https://github.com/zehaowang00/LLMRepair/blob/feng/dataset/fault_localization/LANG-file-predict.zip, send it to LLM and get the statement-level predict results. The evaluation metrics are recall and precision.\n",
    "\n",
    "## 2024-03-31 try run\n",
    "\n",
    "* ref:\n",
    "    * https://github.com/TruX-DTF/iFixR/tree/master\n",
    "    * https://arxiv.org/abs/1902.02703\n",
    "    * https://github.com/TruX-DTF/d-and-c\n",
    "\n",
    "some notes:\n",
    "\n",
    "* commend: `bash startPy.sh . predict ALL`\n",
    "* install failure:\n",
    "    * lightbm: https://github.com/microsoft/LightGBM/issues/6035, `brew install libomp`\n",
    "    * pandas: pip install \"pandas<2.0.0\"\n",
    "    * `commons.py`: from `cfg = yaml.load(ymlfile)` to `cfg = yaml.load(ymlfile, Loader=yaml.FullLoader)`\n",
    "    * `predict.py`: from `ddf = dd.concat([dd.from_array(c) for c in series], axis=1)` to `ddf = dd.concat([dd.from_pandas(c,chunksize=50000) for c in series], axis=1)`\n",
    "    * need information:\n",
    "```text\n",
    "bugID\n",
    "summary\n",
    "description\n",
    "created\n",
    "updated\n",
    "resolved\n",
    "reporterDN\n",
    "reporterEmail\n",
    "hasAttachment\n",
    "attachmentTime\n",
    "hasPR\n",
    "codeElements\n",
    "stackTraces\n",
    "summaryHints\n",
    "descHints\n",
    "```\n",
    "\n",
    "one file not found: File /Users/watch/PycharmProjects/iFixR/data/singlePred/finalmultic_LANG-607.json not found!\n",
    "\n",
    "# before 2024-03-31 first try\n",
    "\n",
    "## Step0: preparation\n",
    "\n",
    "* venv: requirement.txt\n",
    "* defects4j: download\n",
    "* conf.json: api-key, defects4j_path\n",
    "\n",
    "## Step1: fault localization"
   ]
  },
  {
   "cell_type": "code",
   "execution_count": 1,
   "metadata": {},
   "outputs": [
    {
     "name": "stderr",
     "output_type": "stream",
     "text": [
      "/Users/watch/PycharmProjects/LLMRepair/venv/lib/python3.9/site-packages/IPython/core/magics/osm.py:417: UserWarning: using dhist requires you to install the `pickleshare` library.\n",
      "  self.shell.db['dhist'] = compress_dhist(dhist)[-100:]\n"
     ]
    },
    {
     "name": "stdout",
     "output_type": "stream",
     "text": [
      "/Users/watch/PycharmProjects/LLMRepair/script\n"
     ]
    },
    {
     "ename": "FileNotFoundError",
     "evalue": "[Errno 2] No such file or directory: '/Users/wang/Documents/project/defects4j/Data/Lang/lang_57_b/src/java/org/apache/commons/lang/LocaleUtils.java'",
     "output_type": "error",
     "traceback": [
      "\u001B[0;31m---------------------------------------------------------------------------\u001B[0m",
      "\u001B[0;31mFileNotFoundError\u001B[0m                         Traceback (most recent call last)",
      "File \u001B[0;32m~/PycharmProjects/LLMRepair/script/fault_localization.py:91\u001B[0m\n\u001B[1;32m     89\u001B[0m save_file_path \u001B[38;5;241m=\u001B[39m \u001B[38;5;124mf\u001B[39m\u001B[38;5;124m'\u001B[39m\u001B[38;5;124m../analysis_result/GPT_response/fault_location/Lang/\u001B[39m\u001B[38;5;132;01m{\u001B[39;00mbug_id\u001B[38;5;132;01m}\u001B[39;00m\u001B[38;5;124m.json\u001B[39m\u001B[38;5;124m'\u001B[39m\n\u001B[1;32m     90\u001B[0m report \u001B[38;5;241m=\u001B[39m load_bug_report(bug_report_des_path)\n\u001B[0;32m---> 91\u001B[0m prompt_localization \u001B[38;5;241m=\u001B[39m prompt_init(prompt_localization, report[\u001B[38;5;241m0\u001B[39m][\u001B[38;5;124m'\u001B[39m\u001B[38;5;124mdescription\u001B[39m\u001B[38;5;124m'\u001B[39m], preprocessing_title(report[\u001B[38;5;241m0\u001B[39m][\u001B[38;5;124m'\u001B[39m\u001B[38;5;124mtitle\u001B[39m\u001B[38;5;124m'\u001B[39m]), \u001B[43mload_source_code\u001B[49m\u001B[43m(\u001B[49m\u001B[43msource_code_path\u001B[49m\u001B[43m)\u001B[49m, \u001B[38;5;124m\"\u001B[39m\u001B[38;5;124msrc/main/java/org/apache/commons/lang3/text/translate/CharSequenceTranslator.java\u001B[39m\u001B[38;5;124m\"\u001B[39m)\n\u001B[1;32m     92\u001B[0m api_key_path \u001B[38;5;241m=\u001B[39m \u001B[38;5;124m\"\u001B[39m\u001B[38;5;124m/Users/wang/Documents/project/api_key.json\u001B[39m\u001B[38;5;124m\"\u001B[39m \u001B[38;5;66;03m# use your key\u001B[39;00m\n\u001B[1;32m     93\u001B[0m api_key \u001B[38;5;241m=\u001B[39m load_api_key(api_key_path)\n",
      "File \u001B[0;32m~/PycharmProjects/LLMRepair/script/fault_localization.py:33\u001B[0m, in \u001B[0;36mload_source_code\u001B[0;34m(file_path)\u001B[0m\n\u001B[1;32m     32\u001B[0m \u001B[38;5;28;01mdef\u001B[39;00m \u001B[38;5;21mload_source_code\u001B[39m(file_path):\n\u001B[0;32m---> 33\u001B[0m          \u001B[38;5;28;01mwith\u001B[39;00m \u001B[38;5;28;43mopen\u001B[39;49m\u001B[43m(\u001B[49m\u001B[43mfile_path\u001B[49m\u001B[43m,\u001B[49m\u001B[43m \u001B[49m\u001B[38;5;124;43m'\u001B[39;49m\u001B[38;5;124;43mr\u001B[39;49m\u001B[38;5;124;43m'\u001B[39;49m\u001B[43m)\u001B[49m \u001B[38;5;28;01mas\u001B[39;00m file:\n\u001B[1;32m     34\u001B[0m             source_code \u001B[38;5;241m=\u001B[39m file\u001B[38;5;241m.\u001B[39mread()\n\u001B[1;32m     35\u001B[0m             \u001B[38;5;28;01mreturn\u001B[39;00m source_code\n",
      "\u001B[0;31mFileNotFoundError\u001B[0m: [Errno 2] No such file or directory: '/Users/wang/Documents/project/defects4j/Data/Lang/lang_57_b/src/java/org/apache/commons/lang/LocaleUtils.java'"
     ]
    }
   ],
   "source": [
    "%cd script\n",
    "%run fault_localization.py"
   ]
  },
  {
   "cell_type": "markdown",
   "metadata": {},
   "source": [
    "[2024-03-26] failed to run, wait for the source code"
   ]
  },
  {
   "cell_type": "markdown",
   "metadata": {},
   "source": [
    "## Step2: patch generation"
   ]
  },
  {
   "cell_type": "code",
   "execution_count": 8,
   "metadata": {},
   "outputs": [
    {
     "name": "stdout",
     "output_type": "stream",
     "text": [
      "{'Role': 'As a professional developers. You are responsible for fixing the bug in bug report and generating program repair patch.', 'Instruction': 'You should check the bug report information. The location of buggy code is provided. There are two type of information: method include bug, and suspicious buggy code statements. \\n                    One is the method that includes a buggy code. Another is the suspicous buggy code that tirgger the bug in bug report. \\n                    The suspicious buggy code statements may be not very accurate. \\n                    You need to fix the bug in the bug report and provide the fix patch. Please provide the fix patch refer the example format. Output in json format.', 'Bug report description': \"<p>FindBugs pointed out:</p>\\n\\n<p>   UwF: Field not initialized in constructor: org.apache.commons.lang.LocaleUtils.cAvailableLocaleSet</p>\\n\\n<p>cAvailableSet is used directly once in the source - and if availableLocaleSet() hasn't been called it will cause a NullPointerException.</p>\", 'Bug report title': 'NullPointerException in isAvailableLocale(Locale)', 'Method include buggy code': 'public static boolean isAvailableLocale(Locale locale) { \\n        return cAvailableLocaleSet.contains(locale); \\n    }', 'suspicious buggy code statements': 'return cAvailableLocaleSet.contains(locale);', 'File name of checked code': 'src/main/java/org/apache/commons/lang3/text/translate/CharSequenceTranslator.java', 'Fix Patch format Example': 'git diff format', 'Question': 'The patch for the bug in the bug report? (Only Output the fix patch for fix the bug in bug report refer the fix patch format example. No other words)', 'Fualt triggering test for bug': '\"public class LocaleUtilsTest {\\\\n    @Test\\\\n    public void testIsAvailableLocale() {\\\\n        Locale locale = new Locale(\\\\\"en\\\\\");\\\\n        boolean result = LocaleUtils.isAvailableLocale(locale);\\\\n        assertTrue(result);\\\\n    }\\\\n}\"'}\n",
      "../analysis_result/GPT_response/patch_generation/Lang/patch/LANG_57.json\n"
     ]
    }
   ],
   "source": [
    "%run patch_generation.py"
   ]
  },
  {
   "cell_type": "code",
   "execution_count": 9,
   "metadata": {},
   "outputs": [],
   "source": [
    "# %load ../analysis_result/GPT_response/patch_generation/Lang/patch/LANG_57.json\n",
    "{\n",
    "    \"Fix Patch\": \"diff --git a/src/main/java/org/apache/commons/lang3/text/translate/CharSequenceTranslator.java b/src/main/java/org/apache/commons/lang3/text/translate/CharSequenceTranslator.java\\nindex abcdef1..1234567 100644\\n--- a/src/main/java/org/apache/commons/lang3/text/translate/CharSequenceTranslator.java\\n+++ b/src/main/java/org/apache/commons/lang3/text/translate/CharSequenceTranslator.java\\n@@ -1,5 +1,5 @@\\n public static boolean isAvailableLocale(Locale locale) { \\n-        return cAvailableLocaleSet.contains(locale); \\n+        return cAvailableLocaleSet != null && cAvailableLocaleSet.contains(locale); \\n     }\"\n",
    "}"
   ]
  },
  {
   "cell_type": "code",
   "execution_count": 10,
   "metadata": {},
   "outputs": [],
   "source": [
    "# %load ../analysis_result/GPT_response/patch_generation/Lang/patch/LANG_57.txt\n",
    "diff --git a/src/main/java/org/apache/commons/lang3/text/translate/CharSequenceTranslator.java b/src/main/java/org/apache/commons/lang3/text/translate/CharSequenceTranslator.java\n",
    "index abcdef1..1234567 100644\n",
    "--- a/src/main/java/org/apache/commons/lang3/text/translate/CharSequenceTranslator.java\n",
    "+++ b/src/main/java/org/apache/commons/lang3/text/translate/CharSequenceTranslator.java\n",
    "@@ -1,5 +1,5 @@\n",
    " public static boolean isAvailableLocale(Locale locale) { \n",
    "-        return cAvailableLocaleSet.contains(locale); \n",
    "+        return cAvailableLocaleSet != null && cAvailableLocaleSet.contains(locale); \n",
    "     }"
   ]
  },
  {
   "cell_type": "markdown",
   "metadata": {},
   "source": [
    "## Step3: patch validation"
   ]
  },
  {
   "cell_type": "code",
   "execution_count": 11,
   "metadata": {},
   "outputs": [],
   "source": [
    "# %load patch_validation.py\n",
    "import pandas as pd\n",
    "import os \n",
    "import json\n",
    "\n",
    "def get_completion(client, prompt):\n",
    "    messages = [{\"role\": \"user\", \"content\": prompt}]\n",
    "    response = client.chat.completions.create(\n",
    "        model=\"gpt-3.5-turbo-0125\",\n",
    "        # model=\"gpt-4\",\n",
    "        messages=messages,\n",
    "        response_format={\"type\": \"json_object\"},\n",
    "        temperature=0.3,\n",
    "    )\n",
    "    return response.choices[0].message.content\n",
    "\n",
    "def patch_validate(client, prompt, few_shots, save_file_path ):\n",
    "    response = get_completion(client, json.dumps(prompt))\n",
    "    with open(save_file_path, 'w') as file:\n",
    "       json.dump(json.loads(response), file, indent=4)\n",
    "\n",
    "prompt_validation = {\n",
    "  \"Role\": \"As a professional developers. You are responsible for generating program repair patch.\",\n",
    "  \"Instruction\": \"Read \",\n",
    "  \"Question\": \"\"\" Question1: \n",
    "              \"\"\"\n",
    "}"
   ]
  },
  {
   "cell_type": "markdown",
   "metadata": {},
   "source": [
    "seems not upload the script yet"
   ]
  }
 ],
 "metadata": {
  "kernelspec": {
   "display_name": "Python 3 (ipykernel)",
   "language": "python",
   "name": "python3"
  },
  "language_info": {
   "codemirror_mode": {
    "name": "ipython",
    "version": 3
   },
   "file_extension": ".py",
   "mimetype": "text/x-python",
   "name": "python",
   "nbconvert_exporter": "python",
   "pygments_lexer": "ipython3",
   "version": "3.9.6"
  }
 },
 "nbformat": 4,
 "nbformat_minor": 4
}